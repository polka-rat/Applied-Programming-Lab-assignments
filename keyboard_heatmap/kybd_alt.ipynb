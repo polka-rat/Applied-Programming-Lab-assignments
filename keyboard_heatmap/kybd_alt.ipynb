{
 "cells": [
  {
   "cell_type": "markdown",
   "id": "831e4a86-0afe-4c5d-92e9-06aae0a52c2b",
   "metadata": {},
   "source": [
    "# Keyboard Heatmap With New Layout:\n",
    "\n",
    "Name: Deepak Charan S\n",
    "\n",
    "Roll No: EE23B022\n",
    "\n",
    "Date: 28.09.24\n",
    "\n",
    "Description: To analyze keyboard usage patterns for a given keyboard layout and text input by generating a heatmap visualization of key usage. To also calculate the total distance traveled by fingers while typing. (This notebook works with the new layout provided (as per the one given in programming quiz 4 question 3)\n",
    "\n"
   ]
  },
  {
   "cell_type": "code",
   "execution_count": 2,
   "id": "9b489c9e-f0a1-4117-a4c1-37ae54cca7f5",
   "metadata": {},
   "outputs": [],
   "source": [
    "import qwerty_layout as qwerty  # Importing the layout\n",
    "\n",
    "from collections import defaultdict\n",
    "import math\n",
    "\n",
    "import matplotlib as mpl\n",
    "import matplotlib.pyplot as plt\n",
    "from matplotlib.colors import ListedColormap\n",
    "from matplotlib.patches import Rectangle\n",
    "\n",
    "import numpy as np"
   ]
  },
  {
   "cell_type": "code",
   "execution_count": 4,
   "id": "3bc24504-dd39-413b-9961-c2a04d1fe8de",
   "metadata": {},
   "outputs": [
    {
     "data": {
      "image/png": "[encoded data removed]",
      "text/plain": [
       "<Figure size 640x72 with 2 Axes>"
      ]
     },
     "metadata": {},
     "output_type": "display_data"
    }
   ],
   "source": [
    "import pylab\n",
    "\n",
    "cm = pylab.get_cmap(\"jet\")  # The colormap I have used for this assignment\n",
    "\n",
    "cmaps = {}\n",
    "gradient = np.linspace(0, 1, 256)\n",
    "gradient = np.vstack((gradient, gradient))\n",
    "\n",
    "\n",
    "def plot_color_gradient(category, cmap_list):\n",
    "    figh = 0.35 + 0.15 + 0.22\n",
    "    fig, axs = plt.subplots(nrows=2, figsize=(6.4, figh))\n",
    "    fig.subplots_adjust(top=1 - 0.35 / figh, bottom=0.15 / figh, left=0.2, right=0.99)\n",
    "    axs[0].set_title(f\"{category} colormap\", fontsize=14)\n",
    "\n",
    "    for ax, name in zip(axs, cmap_list):\n",
    "        ax.imshow(gradient, aspect=\"auto\", cmap=mpl.colormaps[name])\n",
    "        ax.text(\n",
    "            -0.01,\n",
    "            0.5,\n",
    "            name,\n",
    "            va=\"center\",\n",
    "            ha=\"right\",\n",
    "            fontsize=10,\n",
    "            transform=ax.transAxes,\n",
    "        )\n",
    "\n",
    "    for ax in axs:\n",
    "        ax.set_axis_off()\n",
    "\n",
    "\n",
    "plot_color_gradient(\n",
    "    \"Jet\",\n",
    "    [\n",
    "        \"jet\",\n",
    "    ],\n",
    ")"
   ]
  },
  {
   "cell_type": "code",
   "execution_count": 9,
   "id": "764fe2b2-7af4-4be9-958f-732b97b479e3",
   "metadata": {},
   "outputs": [],
   "source": [
    "class kdb_analysis:  # Used a class for all the operations\n",
    "    def __init__(self, layout=qwerty):\n",
    "        self.layout = layout  # Uses the layout provided by user\n",
    "\n",
    "        self.travel = (\n",
    "            self.key_dist()\n",
    "        )  # Dictionary which stores the distance travelled by fingers to type each key\n",
    "        self.freq = defaultdict(\n",
    "            int\n",
    "        )  # Dictionary which stores the stores the frequencies of each key pressed\n",
    "        self.let_rank = (\n",
    "            []\n",
    "        )  # List which ranks the usage of each letter and is used while assinging colour\n",
    "        self.fig = None\n",
    "        self.ax = None\n",
    "\n",
    "    def visualise_kyb(self):  # Method to visualise the keyboard\n",
    "        self.fig, self.ax = plt.subplots(figsize=(13, 4))\n",
    "\n",
    "        self.ax.set_xticks([])  # Removing axis points (1,2,3.. on x axis wont show up)\n",
    "        self.ax.set_yticks([])\n",
    "\n",
    "        self.ax.set_xlim(-1, 15)\n",
    "        self.ax.set_ylim(-1, 5)\n",
    "        plt.tight_layout()\n",
    "\n",
    "        for key in layout.keys:\n",
    "            if self.freq[key] == 0:  # The key has never been pressed\n",
    "                color = cm(1.0 * 0)\n",
    "            else:  # Giving corresponding heat to the key\n",
    "                color = cm(\n",
    "                    1.0\n",
    "                    * (self.freq[key]/self.let_rank[-1])\n",
    "                )\n",
    "\n",
    "            key_loc = self.layout.keys[key][\"pos\"]\n",
    "            rect = Rectangle(\n",
    "                key_loc, 0.75, 0.75, facecolor=color, alpha=0.9, edgecolor=\"black\"\n",
    "            )\n",
    "            self.ax.text(\n",
    "                key_loc[0] + 0.375,\n",
    "                key_loc[1] + 0.375,\n",
    "                key,\n",
    "                horizontalalignment=\"center\",\n",
    "                verticalalignment=\"center\",\n",
    "            )\n",
    "            self.ax.add_patch(rect)\n",
    "        plt.show()\n",
    "\n",
    "    def euc_dist(\n",
    "        self, key1, key2\n",
    "    ):  # Method to get the euclidean distance between the two keys\n",
    "        return math.sqrt((key2[1] - key1[1]) ** 2 + (key2[0] - key1[0]) ** 2)\n",
    "\n",
    "    def key_dist(self):  # Method to map each key to its corresponding travel sitance\n",
    "        di = {}\n",
    "\n",
    "        for i in layout.keys:\n",
    "            parent = layout.keys[i][\"start\"]\n",
    "            di[i] = self.euc_dist(layout.keys[i][\"pos\"], layout.keys[parent][\"pos\"])\n",
    "\n",
    "        return di\n",
    "\n",
    "    def travel_dist(\n",
    "        self, seq\n",
    "    ):  # Method to calculate the total distance covered in typing a string\n",
    "        trav = 0\n",
    "        self.freq = defaultdict(int)\n",
    "        special = 0\n",
    "\n",
    "        for s in seq:\n",
    "            for p in layout.characters[s]:\n",
    "                trav += self.travel[p]\n",
    "                self.freq[p] += 1\n",
    "\n",
    "        self.let_rank = list(set(self.freq.values()))\n",
    "        self.let_rank.sort()\n",
    "        print(f\"The travel distance was {trav}\")\n",
    "        self.visualise_kyb()  # Plotting the keyboard heatmap\n",
    "        return trav"
   ]
  },
  {
   "cell_type": "markdown",
   "id": "9927b6fb-18a7-4c42-a9d7-5d75fc53af27",
   "metadata": {},
   "source": [
    "# Now that our class has been written, lets test it on some sample strings\n"
   ]
  },
  {
   "cell_type": "code",
   "execution_count": 11,
   "id": "be8bfbba-11c1-4b97-b505-510304407a6d",
   "metadata": {},
   "outputs": [
    {
     "name": "stdout",
     "output_type": "stream",
     "text": [
      "The travel distance was 24.150825351560105\n"
     ]
    },
    {
     "data": {
      "image/png": "[encoded data removed]",
      "text/plain": [
       "<Figure size 1300x400 with 1 Axes>"
      ]
     },
     "metadata": {},
     "output_type": "display_data"
    }
   ],
   "source": [
    "if __name__ == \"__main__\":\n",
    "    layout = qwerty\n",
    "    get = kdb_analysis(layout)  # creating a class object\n",
    "    s = \"This Layout is so baaaad\"\n",
    "    get.travel_dist(s)"
   ]
  },
  {
   "cell_type": "code",
   "execution_count": null,
   "id": "d36627c2-3f33-4527-9956-4d145846b6f1",
   "metadata": {},
   "outputs": [],
   "source": [
    "p = input(\"Enter a string: \")\n",
    "get.travel_dist(p)"
   ]
  }
 ],
 "metadata": {
  "kernelspec": {
   "display_name": "Python 3 (ipykernel)",
   "language": "python",
   "name": "python3"
  },
  "language_info": {
   "codemirror_mode": {
    "name": "ipython",
    "version": 3
   },
   "file_extension": ".py",
   "mimetype": "text/x-python",
   "name": "python",
   "nbconvert_exporter": "python",
   "pygments_lexer": "ipython3",
   "version": "3.9.2"
  }
 },
 "nbformat": 4,
 "nbformat_minor": 5
}
